{
  "cells": [
    {
      "cell_type": "code",
      "execution_count": 4,
      "metadata": {
        "id": "4ZLuq5SDVtCZ"
      },
      "outputs": [],
      "source": [
        "import torch\n",
        "import torch.nn as nn\n",
        "import torch.nn.functional as F\n",
        "import numpy as np\n",
        "from collections import OrderedDict\n",
        "import matplotlib.pyplot as plt\n",
        "%matplotlib inline\n",
        "\n",
        "device=torch.device(\"cpu\")\n"
      ]
    },
    {
      "cell_type": "code",
      "execution_count": 5,
      "metadata": {
        "id": "AqnfI4QtVzZA"
      },
      "outputs": [],
      "source": [
        "class SinusoidTasks:\n",
        "    def __init__(self, amp, phase, min_x, max_x):\n",
        "        self.phase = phase\n",
        "        self.max_x = max_x\n",
        "        self.min_x = min_x\n",
        "        self.amp = amp\n",
        "\n",
        "    def sample_data(self, size=1):\n",
        "        x = np.random.uniform(self.max_x, self.min_x, size)\n",
        "        y = self.true_sine(x)\n",
        "        x = torch.tensor(x, dtype=torch.float).unsqueeze(1)\n",
        "        y = torch.tensor(y, dtype=torch.float).unsqueeze(1)\n",
        "        return x, y\n",
        "\n",
        "    def true_sine(self, x):\n",
        "        y = self.amp * np.sin(self.phase + x)\n",
        "        return y"
      ]
    },
    {
      "cell_type": "code",
      "execution_count": 6,
      "metadata": {
        "id": "oek3HRLC3QK_"
      },
      "outputs": [],
      "source": [
        "class SineDistribution:\n",
        "    def __init__(self, min_amp, max_amp, min_phase, max_phase, min_x, max_x):\n",
        "        self.min_amp = min_amp\n",
        "        self.max_phase = max_phase\n",
        "        self.min_phase = min_phase\n",
        "        self.max_amp = max_amp\n",
        "        self.min_x = min_x\n",
        "        self.max_x = max_x\n",
        "\n",
        "    def sample_task(self):\n",
        "        amp = np.random.uniform(self.min_amp, self.max_amp)\n",
        "        phase = np.random.uniform(self.min_phase, self.max_phase)\n",
        "        return SinusoidTasks(amp, phase, self.min_x, self.max_x)"
      ]
    },
    {
      "cell_type": "code",
      "execution_count": 7,
      "metadata": {
        "id": "rtDNJDy3V1jj"
      },
      "outputs": [],
      "source": [
        "class Model(nn.Module):\n",
        "    def __init__(self):\n",
        "        super(Model, self).__init__()\n",
        "        self.net = nn.Sequential(OrderedDict([\n",
        "            ('l1', nn.Linear(1, 40)),\n",
        "            ('relu1', nn.ReLU()),\n",
        "            ('l2', nn.Linear(40, 40)),\n",
        "            ('relu2', nn.ReLU()),\n",
        "            ('l3', nn.Linear(40, 1))\n",
        "        ]))\n",
        "\n",
        "    def forward(self, x, weights):\n",
        "        x = F.linear(x, weights[0], weights[1])\n",
        "        x = F.relu(x)\n",
        "        x = F.linear(x, weights[2], weights[3])\n",
        "        x = F.relu(x)\n",
        "        x = F.linear(x, weights[4], weights[5])\n",
        "        return x"
      ]
    },
    {
      "cell_type": "code",
      "execution_count": 8,
      "metadata": {},
      "outputs": [
        {
          "name": "stdout",
          "output_type": "stream",
          "text": [
            "5000/70000 Loss: 0.0463\n",
            "10000/70000 Loss: 0.0301\n",
            "15000/70000 Loss: 0.0247\n",
            "20000/70000 Loss: 0.0206\n",
            "25000/70000 Loss: 0.0170\n",
            "30000/70000 Loss: 0.0151\n",
            "35000/70000 Loss: 0.0133\n"
          ]
        }
      ],
      "source": [
        "epochs = 70000\n",
        "loss_ = nn.MSELoss()\n",
        "update_lr = 0.01\n",
        "update_steps = 2\n",
        "K_support = 10\n",
        "K_query = 10\n",
        "batch_size = 25\n",
        "loss_list = []\n",
        "total_loss = 0\n",
        "\n",
        "sine_tasks = SineDistribution(0.1, 5, 0, np.pi, -5, 5)\n",
        "net = Model().to(device)\n",
        "optimizer = torch.optim.Adam(net.parameters(), lr=0.001)\n",
        "\n",
        "for epoch in range(epochs):\n",
        "    update_loss = 0\n",
        "    net.zero_grad()\n",
        "    for _ in range(batch_size):\n",
        "        sample = sine_tasks.sample_task()\n",
        "        params = list(net.parameters())\n",
        "\n",
        "        x_support, y_support = sample.sample_data(size=K_support)\n",
        "        x_support, y_support = x_support.to(device), y_support.to(device)\n",
        "        for i in range(update_steps):\n",
        "            y_support_pred = net(x_support, params)\n",
        "            loss = loss_(y_support_pred, y_support) / K_support\n",
        "            grads = torch.autograd.grad(loss, params, create_graph=True)\n",
        "            params = [w - update_lr * g for w, g in zip(params, grads)]\n",
        "\n",
        "        x_query, y_query = sample.sample_data(size=K_query)\n",
        "        x_query, y_query = x_query.to(device), y_query.to(device)\n",
        "        y_query_pred = net(x_query, params)\n",
        "        loss_q = loss_(y_query_pred, y_query) / K_query\n",
        "        update_loss += loss_q / batch_size\n",
        "\n",
        "    update_loss.backward()\n",
        "    optimizer.step()\n",
        "\n",
        "    total_loss += update_loss.item()\n",
        "    if (epoch + 1) % 5000 == 0:\n",
        "        print(\"{}/{} Loss: {:.4f}\".format(epoch + 1, epochs, total_loss / 100))\n",
        "\n",
        "    if (epoch + 1) % 100 == 0:\n",
        "        loss_list.append(total_loss / 100)\n",
        "        total_loss = 0"
      ]
    },
    {
      "cell_type": "code",
      "execution_count": null,
      "metadata": {
        "colab": {
          "base_uri": "https://localhost:8080/",
          "height": 282
        },
        "id": "GrHh3US3WM5y",
        "outputId": "a73981e8-afc8-4bfb-a889-8511ecee24ae"
      },
      "outputs": [],
      "source": [
        "plt.plot(loss_list)"
      ]
    },
    {
      "cell_type": "code",
      "execution_count": null,
      "metadata": {
        "id": "EgDOQ7h-WfID"
      },
      "outputs": [],
      "source": [
        "def test(model, support, query, lr, optim=torch.optim.SGD):\n",
        "    axis = np.linspace(-5, 5, 1000)\n",
        "    axis = torch.tensor(axis, dtype=torch.float).to(device).view(-1, 1)\n",
        "    \n",
        "    model_test = Model().to(device)\n",
        "    model_test.load_state_dict(model.state_dict())\n",
        "    loss_fn = nn.MSELoss()\n",
        "    num_steps = 2\n",
        "    x_support, y_support = support\n",
        "    x_query, y_query = query\n",
        "    losses = []\n",
        "    outputs = {}\n",
        "    params = list(model_test.parameters())\n",
        "\n",
        "    for i in range(num_steps):\n",
        "        out = model_test(x_support, params)\n",
        "        loss = loss_fn(out, y_support)/10\n",
        "        losses.append(loss.item())\n",
        "        model_test.zero_grad()\n",
        "        grads = torch.autograd.grad(loss, model_test.parameters(), create_graph=True)\n",
        "        params = [w - lr * g for w, g in zip(params, grads)]\n",
        "\n",
        "    logits = model_test(x_query, params)\n",
        "    loss = loss_fn(logits, y_query)\n",
        "\n",
        "    finetuned_params = params\n",
        "    original_params = list(model.parameters())\n",
        "\n",
        "    outputs['finetuned'] = model_test(axis.view(-1, 1), finetuned_params).detach().cpu().numpy()\n",
        "    outputs['initial'] = model(axis.view(-1, 1), original_params).detach().cpu().numpy()\n",
        "\n",
        "    return outputs, axis"
      ]
    },
    {
      "cell_type": "code",
      "execution_count": null,
      "metadata": {
        "id": "cUzxzf5MWkRO"
      },
      "outputs": [],
      "source": [
        "def plot_test(model, support, query, task, optim=torch.optim.SGD, lr=0.01):\n",
        "    outputs, axis = test(model, support, query, lr, optim)\n",
        "    axis = axis.detach().cpu().numpy()\n",
        "    x_support, y_support = support\n",
        "    x_query, y_query = query\n",
        "\n",
        "    plt.figure(figsize=(10, 5))\n",
        "    plt.plot(axis, task.true_sine(axis), '-', color=(0, 0, 1, 0.5), label='true sine')\n",
        "    plt.scatter(x_query.cpu().numpy(), y_query.cpu().numpy(), label='data')\n",
        "    plt.plot(axis, outputs['initial'], ':', color=(0.7, 0, 0, 1), label='initial weights')\n",
        "    plt.plot(axis, outputs['finetuned'], '-', color=(0.5, 0, 0, 1), label='finetuned weights')\n",
        "    plt.legend(loc='lower right')\n",
        "    plt.show()"
      ]
    },
    {
      "cell_type": "code",
      "execution_count": null,
      "metadata": {
        "colab": {
          "base_uri": "https://localhost:8080/",
          "height": 392
        },
        "id": "fzWpT5f1Wkqp",
        "outputId": "bc07f889-1faf-43fc-cf9b-cb14edc67871"
      },
      "outputs": [],
      "source": [
        "K=10 # K-shot, Modify this part to see the effect of K-shot\n",
        "task=sine_tasks.sample_task()\n",
        "x_support,y_support=task.sample_data(K)\n",
        "x_support,y_support=x_support.to(device), y_support.to(device)\n",
        "x_query, y_query = task.sample_data(K)\n",
        "x_query, y_query = x_query.to(device), y_query.to(device)\n",
        "support_set = (x_support, y_support)\n",
        "query_set = (x_query, y_query)\n",
        "\n",
        "plot_test(model = net, support=support_set, query=query_set, task=task)"
      ]
    }
  ],
  "metadata": {
    "accelerator": "GPU",
    "colab": {
      "provenance": []
    },
    "gpuClass": "standard",
    "kernelspec": {
      "display_name": "Python 3",
      "name": "python3"
    },
    "language_info": {
      "codemirror_mode": {
        "name": "ipython",
        "version": 3
      },
      "file_extension": ".py",
      "mimetype": "text/x-python",
      "name": "python",
      "nbconvert_exporter": "python",
      "pygments_lexer": "ipython3",
      "version": "3.8.17"
    }
  },
  "nbformat": 4,
  "nbformat_minor": 0
}
